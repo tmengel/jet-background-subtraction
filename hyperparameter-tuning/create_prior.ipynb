{
 "cells": [
  {
   "cell_type": "code",
   "execution_count": 2,
   "metadata": {},
   "outputs": [],
   "source": [
    "import numpy as np\n",
    "import json\n",
    "\n",
    "variables = ['jet_angularity',\n",
    "             'jet_area',\n",
    "             'jet_nparts',\n",
    "             'jet_pt_raw', \n",
    "             'jet_track_pt_0']\n",
    "\n",
    "nVariables = len(variables)\n",
    "MaxLayers = 3\n",
    "MaxNodes = 20\n",
    "\n",
    "probability_of_n_features = np.ones(nVariables)*1.0/nVariables\n",
    "probability_of_features = probability_of_n_features\n",
    "probability_of_n_layers = np.ones(MaxLayers)*1.0/MaxLayers\n",
    "probability_of_n_nodes = {i:np.ones(MaxNodes)*1.0/MaxNodes for i in range(MaxLayers)}\n",
    "\n",
    "\n",
    "\n",
    "prior = {}\n",
    "prior['possible_variables'] = variables\n",
    "prior['MaxLayers'] = MaxLayers\n",
    "prior['MaxNodes'] = MaxNodes\n",
    "prior['target'] = 'jet_pt_truth'\n",
    "prior['nVariables'] = nVariables\n",
    "prior['nVariables_weight'] = probability_of_n_features.tolist()\n",
    "prior['variable_weight'] = probability_of_features.tolist()\n",
    "prior['nLayers'] = probability_of_n_layers.tolist()\n",
    "prior['layer1'] = probability_of_n_nodes[0].tolist()\n",
    "prior['layer2'] = probability_of_n_nodes[1].tolist()\n",
    "prior['layer3'] = probability_of_n_nodes[2].tolist()\n",
    "# prior['layer4'] = probability_of_n_nodes[3].tolist()\n",
    "\n",
    "filename = \"prior.json\"\n",
    "with open(filename, 'w') as f:\n",
    "    json.dump(prior, f, indent=4)"
   ]
  },
  {
   "cell_type": "code",
   "execution_count": null,
   "metadata": {},
   "outputs": [],
   "source": []
  }
 ],
 "metadata": {
  "kernelspec": {
   "display_name": "myhepenv",
   "language": "python",
   "name": "myhepenv"
  },
  "language_info": {
   "codemirror_mode": {
    "name": "ipython",
    "version": 3
   },
   "file_extension": ".py",
   "mimetype": "text/x-python",
   "name": "python",
   "nbconvert_exporter": "python",
   "pygments_lexer": "ipython3",
   "version": "3.7.12"
  },
  "orig_nbformat": 4
 },
 "nbformat": 4,
 "nbformat_minor": 2
}
